{
 "cells": [
  {
   "cell_type": "code",
   "execution_count": 2,
   "metadata": {},
   "outputs": [],
   "source": [
    "import logging\n",
    "import os\n",
    "import argparse\n",
    "import math\n",
    "import random\n",
    "import tqdm\n",
    "import numpy as np\n",
    "import pandas as pd\n",
    "from sklearn import preprocessing\n",
    "\n",
    "import torch\n",
    "import torch.nn as nn\n",
    "import torch.optim as optim\n",
    "import torch.utils as utils\n",
    "import matplotlib.pyplot as plt\n",
    "import torch.nn as nn\n",
    "\n",
    "from script import dataloader, utility, earlystopping\n",
    "from model import models, layers\n"
   ]
  },
  {
   "cell_type": "code",
   "execution_count": null,
   "metadata": {},
   "outputs": [],
   "source": [
    "from main import *"
   ]
  },
  {
   "cell_type": "code",
   "execution_count": null,
   "metadata": {},
   "outputs": [],
   "source": [
    "class dilated_inception(nn.Module):\n",
    "    def __init__(self, cin, cout, dilation_factor=2):\n",
    "        super(dilated_inception, self).__init__()\n",
    "        self.tconv = nn.ModuleList()\n",
    "        self.kernel_set = [2,3,6,7]\n",
    "        cout = int(cout/len(self.kernel_set))\n",
    "        for kern in self.kernel_set:\n",
    "            self.tconv.append(nn.Conv2d(cin,cout,(1,kern),dilation=(1,dilation_factor)))\n",
    "\n",
    "    def forward(self,input):\n",
    "        x = []\n",
    "        for i in range(len(self.kernel_set)):\n",
    "            x.append(self.tconv[i](input))\n",
    "        for i in range(len(self.kernel_set)):\n",
    "            x[i] = x[i][...,-x[-1].size(3):]\n",
    "        x = torch.cat(x,dim=1)\n",
    "        return x"
   ]
  },
  {
   "cell_type": "code",
   "execution_count": null,
   "metadata": {},
   "outputs": [],
   "source": [
    "logging.basicConfig(level=logging.INFO)\n",
    "\n",
    "args, device, blocks = get_parameters()\n",
    "n_vertex, zscore, train_iter, val_iter, test_iter = data_preparate(args, device)    # n_vertex = 207,\n",
    "\n",
    "for x, y in tqdm.tqdm(train_iter):\n",
    "    num = 0\n",
    "\n",
    "print(x.shape)"
   ]
  },
  {
   "cell_type": "code",
   "execution_count": 26,
   "metadata": {},
   "outputs": [],
   "source": [
    "kern = 2\n",
    "dilation_factor = 1\n",
    "cin = 12\n",
    "cout = 16\n",
    "\n",
    "TCconv = nn.ModuleList()\n",
    "kernel_set = [2,3,4,5]\n",
    "\n",
    "x = torch.rand(32,1,12,207)\n",
    "cin = x.shape[1]\n",
    "\n",
    "conv1 = nn.Conv2d(cin,cout,kernel_size=(1,2))\n",
    "conv2 = nn.Conv2d(cin,cout,kernel_size=(1,3))\n",
    "conv3 = nn.Conv2d(cin,cout,kernel_size=(1,4))\n",
    "conv4 = nn.Conv2d(cin,cout,kernel_size=(1,5))"
   ]
  },
  {
   "cell_type": "code",
   "execution_count": 20,
   "metadata": {},
   "outputs": [
    {
     "data": {
      "text/plain": [
       "torch.Size([32, 1, 207, 12])"
      ]
     },
     "execution_count": 20,
     "metadata": {},
     "output_type": "execute_result"
    }
   ],
   "source": [
    "x.permute(0,1,3,2).shape"
   ]
  },
  {
   "cell_type": "code",
   "execution_count": 27,
   "metadata": {},
   "outputs": [
    {
     "name": "stdout",
     "output_type": "stream",
     "text": [
      "torch.Size([32, 16, 207, 11])\n",
      "torch.Size([32, 16, 207, 10])\n",
      "torch.Size([32, 16, 207, 9])\n",
      "torch.Size([32, 16, 207, 8])\n"
     ]
    }
   ],
   "source": [
    "print(conv1(x.permute(0,1,3,2)).shape)\n",
    "print(conv2(x.permute(0,1,3,2)).shape)\n",
    "print(conv3(x.permute(0,1,3,2)).shape)\n",
    "print(conv4(x.permute(0,1,3,2)).shape)"
   ]
  },
  {
   "cell_type": "code",
   "execution_count": 28,
   "metadata": {},
   "outputs": [],
   "source": [
    "x1 = conv1(x.permute(0,1,3,2))\n",
    "x2 = conv2(x.permute(0,1,3,2))\n",
    "x3 = conv3(x.permute(0,1,3,2))\n",
    "x4 = conv4(x.permute(0,1,3,2))"
   ]
  },
  {
   "cell_type": "code",
   "execution_count": 35,
   "metadata": {},
   "outputs": [],
   "source": [
    "out = []\n",
    "out.append(x1[...,-x4.shape[-1]:])\n",
    "out.append(x2[...,-x4.shape[-1]:])\n",
    "out.append(x3[...,-x4.shape[-1]:])\n",
    "out.append(x4[...,-x4.shape[-1]:])"
   ]
  },
  {
   "cell_type": "code",
   "execution_count": 36,
   "metadata": {},
   "outputs": [
    {
     "data": {
      "text/plain": [
       "torch.Size([32, 64, 207, 8])"
      ]
     },
     "execution_count": 36,
     "metadata": {},
     "output_type": "execute_result"
    }
   ],
   "source": [
    "torch.cat(out,dim=1).shape"
   ]
  },
  {
   "cell_type": "code",
   "execution_count": null,
   "metadata": {},
   "outputs": [],
   "source": [
    "for kernel_size in kernel_set:\n",
    "    TCconv.append(nn.Conv2d(cin,cout,kernel_size=(1,kernel_size),dilation=(1,dilation_factor)))"
   ]
  },
  {
   "cell_type": "code",
   "execution_count": 38,
   "metadata": {},
   "outputs": [
    {
     "data": {
      "text/plain": [
       "torch.Size([32, 1, 207, 12])"
      ]
     },
     "execution_count": 38,
     "metadata": {},
     "output_type": "execute_result"
    }
   ],
   "source": [
    "x.permute(0,1,3,2).shape"
   ]
  },
  {
   "cell_type": "code",
   "execution_count": 40,
   "metadata": {},
   "outputs": [],
   "source": [
    "class Dialated_Block(nn.Module):\n",
    "    def __init__(self, cin, cout, dilation_factor=1):\n",
    "        super(Dialated_Block,self).__init__()\n",
    "        self.TCconv = nn.ModuleList()\n",
    "        self.kernel_set = [2,3,4,5]\n",
    "        cout = int(cout / len(self.kernel_set))\n",
    "        for kernel_size in self.kernel_set:\n",
    "            self.TCconv.append(nn.Conv2d(cin,cout,kernel_size=(1,kernel_size),dilation=(1,dilation_factor)))\n",
    "        \n",
    "    def forward(self,input):\n",
    "        x = []\n",
    "        for i in range(len(self.kernel_set)):\n",
    "            x.append(self.TCconv[i](input))\n",
    "            \n",
    "        for i in range(len(self.kernel_set)):\n",
    "            x[i] = x[i][...,-x[-1].shape[-1]:]\n",
    "        x = torch.cat(x,dim=1)\n",
    "        x = x.permute(0,1,3,2)\n",
    "        return x\n"
   ]
  },
  {
   "cell_type": "code",
   "execution_count": 45,
   "metadata": {},
   "outputs": [],
   "source": [
    "class Dialated_Block(nn.Module):\n",
    "    def __init__(self, cin, cout, dilation_factor=1):\n",
    "        super(Dialated_Block,self).__init__()\n",
    "        self.TCconv = nn.ModuleList()\n",
    "        self.kernel_set = [2,3]\n",
    "        cout = int(cout / len(self.kernel_set))\n",
    "        for kernel_size in self.kernel_set:\n",
    "            self.TCconv.append(nn.Conv2d(cin,cout,kernel_size=(1,kernel_size),dilation=(1,dilation_factor)))\n",
    "        \n",
    "    def forward(self,input):\n",
    "        input = input.permute(0,1,3,2)\n",
    "        x = []\n",
    "        \n",
    "        for i in range(len(self.kernel_set)):\n",
    "            x.append(self.TCconv[i](input))\n",
    "        for i in range(len(self.kernel_set)):\n",
    "            x[i] = x[i][...,-x[-1].shape[-1]:]\n",
    "        x = torch.cat(x,dim=1)\n",
    "        x = x.permute(0,1,3,2)\n",
    "        return x\n"
   ]
  },
  {
   "cell_type": "code",
   "execution_count": 46,
   "metadata": {},
   "outputs": [
    {
     "data": {
      "text/plain": [
       "torch.Size([32, 1, 12, 207])"
      ]
     },
     "execution_count": 46,
     "metadata": {},
     "output_type": "execute_result"
    }
   ],
   "source": [
    "x.shape"
   ]
  },
  {
   "cell_type": "code",
   "execution_count": 41,
   "metadata": {},
   "outputs": [],
   "source": [
    "tep_layer = Dialated_Block(1,64)"
   ]
  },
  {
   "cell_type": "code",
   "execution_count": 42,
   "metadata": {},
   "outputs": [
    {
     "data": {
      "text/plain": [
       "Dialated_Block(\n",
       "  (TCconv): ModuleList(\n",
       "    (0): Conv2d(1, 16, kernel_size=(1, 2), stride=(1, 1))\n",
       "    (1): Conv2d(1, 16, kernel_size=(1, 3), stride=(1, 1))\n",
       "    (2): Conv2d(1, 16, kernel_size=(1, 4), stride=(1, 1))\n",
       "    (3): Conv2d(1, 16, kernel_size=(1, 5), stride=(1, 1))\n",
       "  )\n",
       ")"
      ]
     },
     "execution_count": 42,
     "metadata": {},
     "output_type": "execute_result"
    }
   ],
   "source": [
    "tep_layer"
   ]
  },
  {
   "cell_type": "code",
   "execution_count": 44,
   "metadata": {},
   "outputs": [
    {
     "data": {
      "text/plain": [
       "torch.Size([32, 64, 207, 8])"
      ]
     },
     "execution_count": 44,
     "metadata": {},
     "output_type": "execute_result"
    }
   ],
   "source": [
    "tep_layer(x.permute(0,1,3,2)).shape  "
   ]
  },
  {
   "cell_type": "code",
   "execution_count": 47,
   "metadata": {},
   "outputs": [],
   "source": [
    "class FixedEmbedding(nn.Module):\n",
    "    def __init__(self, c_in, d_model):\n",
    "        super(FixedEmbedding, self).__init__()\n",
    "\n",
    "        w = torch.zeros(c_in, d_model).float()\n",
    "        w.require_grad = False\n",
    "\n",
    "        position = torch.arange(0, c_in).float().unsqueeze(1)\n",
    "        div_term = (torch.arange(0, d_model, 2).float() * -(math.log(10000.0) / d_model)).exp()\n",
    "\n",
    "        w[:, 0::2] = torch.sin(position * div_term)\n",
    "        w[:, 1::2] = torch.cos(position * div_term)\n",
    "\n",
    "        self.emb = nn.Embedding(c_in, d_model)\n",
    "        self.emb.weight = nn.Parameter(w, requires_grad=False)\n",
    "\n",
    "    def forward(self, x):\n",
    "        return self.emb(x).detach()"
   ]
  },
  {
   "cell_type": "code",
   "execution_count": 52,
   "metadata": {},
   "outputs": [],
   "source": [
    "embeds = FixedEmbedding(1,128)"
   ]
  },
  {
   "cell_type": "code",
   "execution_count": 57,
   "metadata": {},
   "outputs": [],
   "source": [
    "c_in = 1\n",
    "d_model = 128\n",
    "\n",
    "w = torch.zeros(c_in, d_model).float()\n",
    "position = torch.arange(0, c_in).float().unsqueeze(1)\n",
    "div_term = (torch.arange(0, d_model, 2).float() * -(math.log(10000.0) / d_model)).exp()"
   ]
  },
  {
   "cell_type": "code",
   "execution_count": 58,
   "metadata": {},
   "outputs": [
    {
     "data": {
      "text/plain": [
       "torch.Size([64])"
      ]
     },
     "execution_count": 58,
     "metadata": {},
     "output_type": "execute_result"
    }
   ],
   "source": [
    "div_term.shape"
   ]
  },
  {
   "cell_type": "code",
   "execution_count": 64,
   "metadata": {},
   "outputs": [
    {
     "data": {
      "text/plain": [
       "torch.Size([1, 128])"
      ]
     },
     "execution_count": 64,
     "metadata": {},
     "output_type": "execute_result"
    }
   ],
   "source": [
    "w.shape"
   ]
  },
  {
   "cell_type": "code",
   "execution_count": 67,
   "metadata": {},
   "outputs": [
    {
     "data": {
      "text/plain": [
       "Embedding(1, 128)"
      ]
     },
     "execution_count": 67,
     "metadata": {},
     "output_type": "execute_result"
    }
   ],
   "source": [
    "nn.Embedding(c_in, d_model)"
   ]
  },
  {
   "cell_type": "code",
   "execution_count": 68,
   "metadata": {},
   "outputs": [],
   "source": [
    "embeds.emb.weight = nn.Parameter(w, requires_grad=False)"
   ]
  },
  {
   "cell_type": "code",
   "execution_count": 70,
   "metadata": {},
   "outputs": [],
   "source": [
    "embeds = nn.Embedding(1,128)"
   ]
  },
  {
   "cell_type": "code",
   "execution_count": 77,
   "metadata": {},
   "outputs": [
    {
     "data": {
      "text/plain": [
       "torch.Size([32, 1, 12, 207, 128])"
      ]
     },
     "execution_count": 77,
     "metadata": {},
     "output_type": "execute_result"
    }
   ],
   "source": [
    "embeds(x.to(torch.int64)).shape"
   ]
  },
  {
   "cell_type": "code",
   "execution_count": 79,
   "metadata": {},
   "outputs": [],
   "source": [
    "z = torch.rand(32,1)"
   ]
  },
  {
   "cell_type": "markdown",
   "metadata": {},
   "source": []
  },
  {
   "cell_type": "code",
   "execution_count": 85,
   "metadata": {},
   "outputs": [
    {
     "data": {
      "text/plain": [
       "torch.Size([32, 128, 12, 207])"
      ]
     },
     "execution_count": 85,
     "metadata": {},
     "output_type": "execute_result"
    }
   ],
   "source": [
    "embeds(x.to(torch.int64)).squeeze().permute(0,3,1,2).shape"
   ]
  },
  {
   "cell_type": "code",
   "execution_count": 86,
   "metadata": {},
   "outputs": [],
   "source": [
    "def plot_losses(train_losses, val_losses):\n",
    "\n",
    "    \n",
    "    epochs = list(range(1, len(train_losses) + 1))\n",
    "\n",
    "    fig, ax = plt.subplots(figsize=(16, 8)) \n",
    "\n",
    "    plt.plot(epochs, train_losses, marker='o', linestyle='-', colo11r='green', label='Train')\n",
    "    plt.plot(epochs, val_losses, marker='o', linestyle='-', color='red', label='Validation')\n",
    "\n",
    "    plt.xticks(np.arange(1, len(epochs) + 1, step=1), rotation=90)\n",
    "\n",
    "    plt.title('Loss(Mean Squared Error)')\n",
    "\n",
    "    plt.xlabel('Epoch')\n",
    "\n",
    "    plt.legend(loc='upper right')\n",
    "\n",
    "    plt.savefig('STGCN Learning Curves-Default.png')"
   ]
  },
  {
   "cell_type": "code",
   "execution_count": null,
   "metadata": {},
   "outputs": [],
   "source": []
  },
  {
   "cell_type": "code",
   "execution_count": 87,
   "metadata": {},
   "outputs": [],
   "source": [
    "train_losses = [0.3417280171318853, 0.26110783354576567] \n",
    "\n",
    "val_losses = [0.35265180468559265, 0.40453770756721497]"
   ]
  },
  {
   "cell_type": "code",
   "execution_count": 100,
   "metadata": {},
   "outputs": [],
   "source": [
    "class PositionalEmbedding(nn.Module):\n",
    "    def __init__(self, d_model, max_len=5000):\n",
    "        super(PositionalEmbedding, self).__init__()\n",
    "        # Compute the positional encodings once in log space.\n",
    "        pe = torch.zeros(max_len, d_model).float()\n",
    "        pe.require_grad = False\n",
    "\n",
    "        position = torch.arange(0, max_len).float().unsqueeze(1)\n",
    "        div_term = (torch.arange(0, d_model, 2).float() * -(math.log(10000.0) / d_model)).exp()\n",
    "\n",
    "        pe[:, 0::2] = torch.sin(position * div_term)\n",
    "        pe[:, 1::2] = torch.cos(position * div_term)\n",
    "\n",
    "        pe = pe.unsqueeze(0)\n",
    "        self.register_buffer('pe', pe)\n",
    "\n",
    "    def forward(self, x):\n",
    "        return self.pe[:, :x.size(1)]"
   ]
  },
  {
   "cell_type": "code",
   "execution_count": 93,
   "metadata": {},
   "outputs": [],
   "source": [
    "pe = torch.zeros(64, d_model).float()\n",
    "position = torch.arange(0, 64).float().unsqueeze(1)"
   ]
  },
  {
   "cell_type": "code",
   "execution_count": 94,
   "metadata": {},
   "outputs": [],
   "source": [
    "div_term = (torch.arange(0, d_model, 2).float() * -(math.log(10000.0) / d_model)).exp()"
   ]
  },
  {
   "cell_type": "code",
   "execution_count": 95,
   "metadata": {},
   "outputs": [],
   "source": [
    "pe[:, 0::2] = torch.sin(position * div_term)\n",
    "pe[:, 1::2] = torch.cos(position * div_term)"
   ]
  },
  {
   "cell_type": "code",
   "execution_count": 101,
   "metadata": {},
   "outputs": [],
   "source": [
    "pe = PositionalEmbedding(d_model=d_model,max_len=32)"
   ]
  },
  {
   "cell_type": "code",
   "execution_count": 106,
   "metadata": {},
   "outputs": [
    {
     "data": {
      "text/plain": [
       "tensor([0., 1., 0., 1., 0., 1., 0., 1., 0., 1., 0., 1., 0., 1., 0., 1., 0., 1.,\n",
       "        0., 1., 0., 1., 0., 1., 0., 1., 0., 1., 0., 1., 0., 1., 0., 1., 0., 1.,\n",
       "        0., 1., 0., 1., 0., 1., 0., 1., 0., 1., 0., 1., 0., 1., 0., 1., 0., 1.,\n",
       "        0., 1., 0., 1., 0., 1., 0., 1., 0., 1., 0., 1., 0., 1., 0., 1., 0., 1.,\n",
       "        0., 1., 0., 1., 0., 1., 0., 1., 0., 1., 0., 1., 0., 1., 0., 1., 0., 1.,\n",
       "        0., 1., 0., 1., 0., 1., 0., 1., 0., 1., 0., 1., 0., 1., 0., 1., 0., 1.,\n",
       "        0., 1., 0., 1., 0., 1., 0., 1., 0., 1., 0., 1., 0., 1., 0., 1., 0., 1.,\n",
       "        0., 1.])"
      ]
     },
     "execution_count": 106,
     "metadata": {},
     "output_type": "execute_result"
    }
   ],
   "source": [
    "pe(x)[0][0]"
   ]
  },
  {
   "cell_type": "code",
   "execution_count": 117,
   "metadata": {},
   "outputs": [],
   "source": [
    "class TemporalEmbedding(nn.Module):\n",
    "    def __init__(self, d_model, time_of_day_size, day_of_week_size, day_of_month_size, day_of_year_size, embed_type='fixed'):\n",
    "        super(TemporalEmbedding, self).__init__()\n",
    "\n",
    "        Embed = FixedEmbedding if embed_type=='fixed' else nn.Embedding\n",
    "        self.time_of_day_size = time_of_day_size\n",
    "        self.day_of_week_size = day_of_week_size\n",
    "        self.day_of_month_size = day_of_month_size\n",
    "        self.day_of_year_size = day_of_year_size\n",
    "\n",
    "        if time_of_day_size is not None:\n",
    "            self.time_of_day_embed = Embed(time_of_day_size, d_model)\n",
    "        if day_of_week_size is not None:\n",
    "            self.day_of_week_embed = Embed(day_of_week_size, d_model)\n",
    "        if day_of_month_size is not None:\n",
    "            self.day_of_month_embed = Embed(day_of_month_size, d_model)\n",
    "        if day_of_year_size is not None:\n",
    "            self.day_of_year_embed = Embed(day_of_year_size, d_model)\n",
    "\n",
    "    def forward(self, x):\n",
    "        x = x + 0.5 # re-normalize to [0, 1) to get correct index. ref: arch_zoo/utils/xformer.py data_transformation_4_xformer\n",
    "        temporal_embeddings = []\n",
    "        if self.time_of_day_size is not None:\n",
    "            time_of_day_x = self.time_of_day_embed((x[:, :, 0] * self.time_of_day_size).long())\n",
    "            temporal_embeddings.append(time_of_day_x)\n",
    "        if self.day_of_week_size is not None:\n",
    "            day_of_week_x = self.day_of_week_embed((x[:, :, 1] * self.day_of_week_size).long())\n",
    "            temporal_embeddings.append(day_of_week_x)\n",
    "        if self.day_of_month_size is not None:\n",
    "            day_of_month_x = self.day_of_month_embed((x[:, :, 2] * self.day_of_month_size).long())\n",
    "            temporal_embeddings.append(day_of_month_x)\n",
    "        if self.day_of_year_size is not None:\n",
    "            day_of_year_x = self.day_of_year_embed((x[:, :, 3] * self.day_of_year_size).long())\n",
    "            temporal_embeddings.append(day_of_year_x)\n",
    "\n",
    "        if len(temporal_embeddings) == 0:\n",
    "            return 0\n",
    "        else:\n",
    "            return sum(temporal_embeddings)"
   ]
  },
  {
   "cell_type": "code",
   "execution_count": 122,
   "metadata": {},
   "outputs": [],
   "source": [
    "x = torch.rand(32721)"
   ]
  },
  {
   "cell_type": "code",
   "execution_count": 124,
   "metadata": {},
   "outputs": [],
   "source": [
    "dataset_path = './data'\n",
    "dataset_name = \"metr-la\"\n",
    "dataset_path = os.path.join(dataset_path, dataset_name)\n",
    "vel = pd.read_csv(os.path.join(dataset_path, 'vel.csv'))\n",
    "\n"
   ]
  },
  {
   "cell_type": "code",
   "execution_count": 125,
   "metadata": {},
   "outputs": [
    {
     "data": {
      "text/plain": [
       "(34271, 207)"
      ]
     },
     "execution_count": 125,
     "metadata": {},
     "output_type": "execute_result"
    }
   ],
   "source": [
    "vel.shape"
   ]
  },
  {
   "cell_type": "code",
   "execution_count": 141,
   "metadata": {},
   "outputs": [],
   "source": [
    "ts_index = vel.index "
   ]
  },
  {
   "cell_type": "code",
   "execution_count": 142,
   "metadata": {},
   "outputs": [],
   "source": [
    "time_of_hour_size = 12          # 12\n",
    "time_of_day_size = 12 * 24      # 288\n",
    "time_of_week_size = 12* 24 * 7  # 2016"
   ]
  },
  {
   "cell_type": "code",
   "execution_count": 143,
   "metadata": {},
   "outputs": [],
   "source": [
    "ts_hour = ts_index % time_of_hour_size\n",
    "ts_day = ts_index % time_of_day_size\n",
    "ts_week = ts_index % time_of_week_size\n",
    "\n",
    "ts_hour_sin = np.sin(2* np.pi * ts_hour / ts_hour.max())\n",
    "ts_hour_cos = np.cos(2* np.pi * ts_hour / ts_hour.max())\n",
    "ts_day_sin = np.sin(2* np.pi * ts_day / ts_day.max())\n",
    "ts_day_cos = np.cos(2* np.pi * ts_day / ts_day.max())\n",
    "ts_week_sin = np.sin(2* np.pi * ts_week / ts_week.max())\n",
    "ts_week_cos = np.cos(2* np.pi * ts_week / ts_week.max())"
   ]
  },
  {
   "cell_type": "code",
   "execution_count": 144,
   "metadata": {},
   "outputs": [],
   "source": [
    "temporal_embeds = np.vstack([ts_hour_sin, ts_hour_cos,ts_day_sin,ts_day_cos,ts_week_sin,ts_week_cos]).T\n",
    "temporal_embeds_sum = temporal_embeds.sum(axis=1)\n",
    "data_after_embeds = np.repeat([temporal_embeds_sum], vel.shape[1], axis=0).T + vel"
   ]
  },
  {
   "cell_type": "code",
   "execution_count": null,
   "metadata": {},
   "outputs": [],
   "source": [
    "def embeds(data, time_of_hour=True, time_of_day = True, time_of_week = True):\n",
    "    ts_index = data.index \n",
    "\n",
    "    if time_of_hour:\n",
    "        time_of_hour_size = 12          # 12\n",
    "        ts_hour = ts_index % time_of_hour_size\n",
    "        ts_hour_sin = np.sin(2* np.pi * ts_hour / ts_hour.max())\n",
    "        ts_hour_cos = np.cos(2* np.pi * ts_hour / ts_hour.max())\n",
    "\n",
    "    if time_of_day:\n",
    "        time_of_day_size = 12 * 24      # 288\n",
    "        ts_day = ts_index % time_of_day_size\n",
    "        ts_day_sin = np.sin(2* np.pi * ts_day / ts_day.max())\n",
    "        ts_day_cos = np.cos(2* np.pi * ts_day / ts_day.max())\n",
    "\n",
    "    if time_of_week:\n",
    "        time_of_week_size = 12* 24 * 7  # 2016\n",
    "        ts_week = ts_index % time_of_week_size\n",
    "        ts_week_sin = np.sin(2* np.pi * ts_week / ts_week.max())\n",
    "        ts_week_cos = np.cos(2* np.pi * ts_week / ts_week.max())\n",
    "\n",
    "\n",
    "    if time_of_hour and time_of_day and time_of_week:\n",
    "        temporal_embeds = np.vstack([ts_hour_sin, ts_hour_cos,ts_day_sin,ts_day_cos,ts_week_sin,ts_week_cos]).T\n",
    "\n",
    "    elif time_of_hour and (not time_of_day) and (not time_of_week):\n",
    "        temporal_embeds = np.vstack([ts_hour_sin, ts_hour_cos]).T\n",
    "    \n",
    "    elif time_of_day and (not time_of_hour) and (not time_of_week):\n",
    "        temporal_embeds = np.vstack([ts_day_sin,ts_day_cos]).T\n",
    "\n",
    "    elif time_of_week and (not time_of_hour) and (not time_of_day):\n",
    "        temporal_embeds = np.vstack([ts_week_sin,ts_week_cos]).T\n",
    "\n",
    "    temporal_embeds_sum = temporal_embeds.sum(axis=1)\n",
    "    data_after_embeds = np.repeat([temporal_embeds_sum], vel.shape[1], axis=0).T + vel\n",
    "\n",
    "\n",
    "    return data_after_embeds"
   ]
  },
  {
   "cell_type": "code",
   "execution_count": 177,
   "metadata": {},
   "outputs": [],
   "source": [
    "\n",
    "def get_parameters():\n",
    "    parser = argparse.ArgumentParser(description='STGCN')\n",
    "    parser.add_argument('--enable_cuda', type=bool, default=True, help='enable CUDA, default as True')\n",
    "    parser.add_argument('--seed', type=int, default=42, help='set the random seed for stabilizing experiment results')\n",
    "    parser.add_argument('--dataset', type=str, default='metr-la', choices=['metr-la', 'pems-bay', 'pemsd7-m'])\n",
    "    parser.add_argument('--n_his', type=int, default=12)\n",
    "    parser.add_argument('--n_pred', type=int, default=3, help='the number of time interval for predcition, default as 3')\n",
    "    parser.add_argument('--time_intvl', type=int, default=5)\n",
    "    parser.add_argument('--Kt', type=int, default=2)\n",
    "    parser.add_argument('--stblock_num', type=int, default=2)\n",
    "    parser.add_argument('--act_func', type=str, default='glu', choices=['glu', 'gtu'])\n",
    "    parser.add_argument('--Ks', type=int, default=3, choices=[3, 2])\n",
    "    parser.add_argument('--graph_conv_type', type=str, default='cheb_graph_conv', choices=['cheb_graph_conv', 'graph_conv'])\n",
    "    parser.add_argument('--gso_type', type=str, default='sym_norm_lap', choices=['sym_norm_lap', 'rw_norm_lap', 'sym_renorm_adj', 'rw_renorm_adj'])\n",
    "    parser.add_argument('--enable_bias', type=bool, default=True, help='default as True')\n",
    "    parser.add_argument('--droprate', type=float, default=0.5)\n",
    "    parser.add_argument('--lr', type=float, default=0.001, help='learning rate')\n",
    "    parser.add_argument('--weight_decay_rate', type=float, default=0.0005, help='weight decay (L2 penalty)')\n",
    "    parser.add_argument('--batch_size', type=int, default=32)\n",
    "    parser.add_argument('--epochs', type=int, default=100, help='epochs, default as 100')\n",
    "    parser.add_argument('--opt', type=str, default='adam', help='optimizer, default as adam')\n",
    "    parser.add_argument('--step_size', type=int, default=10)\n",
    "    parser.add_argument('--gamma', type=float, default=0.95)\n",
    "    parser.add_argument('--patience', type=int, default=30, help='early stopping patience')\n",
    "    args = parser.parse_args()\n",
    "    print('Training configs: {}'.format(args))\n",
    "\n",
    "    # For stable experiment results\n",
    "    set_env(args.seed)\n",
    "\n",
    "    # Running in Nvidia GPU (CUDA) or CPU\n",
    "    if args.enable_cuda and torch.cuda.is_available():\n",
    "        # Set available CUDA devices\n",
    "        # This option is crucial for multiple GPUs\n",
    "        # 'cuda' ≡ 'cuda:0'\n",
    "        device = torch.device('cuda')\n",
    "    else:\n",
    "        device = torch.device('cpu')\n",
    "    \n",
    "    Ko = args.n_his - (args.Kt - 1) * 2 * args.stblock_num\n",
    "\n",
    "    # blocks: settings of channel size in st_conv_blocks and output layer,\n",
    "    # using the bottleneck design in st_conv_blocks\n",
    "    blocks = []\n",
    "    blocks.append([1])\n",
    "    for l in range(args.stblock_num):  # 2\n",
    "        blocks.append([64, 16, 64])\n",
    "    if Ko == 0:\n",
    "        blocks.append([128])\n",
    "    elif Ko > 0:\n",
    "        blocks.append([128, 128])\n",
    "    blocks.append([1])\n",
    "    \n",
    "    return args, device, blocks\n"
   ]
  },
  {
   "cell_type": "code",
   "execution_count": 178,
   "metadata": {},
   "outputs": [
    {
     "name": "stderr",
     "output_type": "stream",
     "text": [
      "usage: ipykernel_launcher.py [-h] [--enable_cuda ENABLE_CUDA] [--seed SEED]\n",
      "                             [--dataset {metr-la,pems-bay,pemsd7-m}]\n",
      "                             [--n_his N_HIS] [--n_pred N_PRED]\n",
      "                             [--time_intvl TIME_INTVL] [--Kt KT]\n",
      "                             [--stblock_num STBLOCK_NUM]\n",
      "                             [--act_func {glu,gtu}] [--Ks {3,2}]\n",
      "                             [--graph_conv_type {cheb_graph_conv,graph_conv}]\n",
      "                             [--gso_type {sym_norm_lap,rw_norm_lap,sym_renorm_adj,rw_renorm_adj}]\n",
      "                             [--enable_bias ENABLE_BIAS] [--droprate DROPRATE]\n",
      "                             [--lr LR] [--weight_decay_rate WEIGHT_DECAY_RATE]\n",
      "                             [--batch_size BATCH_SIZE] [--epochs EPOCHS]\n",
      "                             [--opt OPT] [--step_size STEP_SIZE]\n",
      "                             [--gamma GAMMA] [--patience PATIENCE]\n",
      "ipykernel_launcher.py: error: unrecognized arguments: --f=/home/ivy/.local/share/jupyter/runtime/kernel-v2-371916m40j8qJ0kohI.json\n"
     ]
    },
    {
     "ename": "SystemExit",
     "evalue": "2",
     "output_type": "error",
     "traceback": [
      "An exception has occurred, use %tb to see the full traceback.\n",
      "\u001b[0;31mSystemExit\u001b[0m\u001b[0;31m:\u001b[0m 2\n"
     ]
    },
    {
     "name": "stderr",
     "output_type": "stream",
     "text": [
      "/home/ivy/anaconda3/envs/nzk/lib/python3.7/site-packages/IPython/core/interactiveshell.py:3465: UserWarning: To exit: use 'exit', 'quit', or Ctrl-D.\n",
      "  warn(\"To exit: use 'exit', 'quit', or Ctrl-D.\", stacklevel=1)\n"
     ]
    }
   ],
   "source": [
    "args, device, blocks = get_parameters()"
   ]
  },
  {
   "cell_type": "code",
   "execution_count": 185,
   "metadata": {},
   "outputs": [],
   "source": [
    "lr = 0.001\n",
    "Ks = 2\n",
    "weight_decay_rate = 0.0005\n",
    "n_his = 12\n",
    "opt = 'adam'\n",
    "fname = './figure/hyper/STGCN Learning Curves-Embeds_ + ' + \"lr: \" + str(lr) + \" Ks: \" + str(Ks) + \" weight_decay_rate: \" + str(weight_decay_rate) + \" n_his: \" + str(n_his) + \"opt: \" + opt \n",
    "\n",
    "history = [0.6949383338014007, 0.5823424432549749]\n",
    "with open (fname+'.txt' , \"w\") as f:\n",
    "    f.write(str(history))"
   ]
  },
  {
   "cell_type": "code",
   "execution_count": null,
   "metadata": {},
   "outputs": [],
   "source": []
  }
 ],
 "metadata": {
  "kernelspec": {
   "display_name": "nzk",
   "language": "python",
   "name": "python3"
  },
  "language_info": {
   "codemirror_mode": {
    "name": "ipython",
    "version": 3
   },
   "file_extension": ".py",
   "mimetype": "text/x-python",
   "name": "python",
   "nbconvert_exporter": "python",
   "pygments_lexer": "ipython3",
   "version": "3.7.0"
  }
 },
 "nbformat": 4,
 "nbformat_minor": 2
}
