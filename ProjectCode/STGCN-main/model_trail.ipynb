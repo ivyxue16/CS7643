{
 "cells": [
  {
   "cell_type": "code",
   "execution_count": 2,
   "metadata": {},
   "outputs": [],
   "source": [
    "import logging\n",
    "import os\n",
    "import argparse\n",
    "import math\n",
    "import random\n",
    "import tqdm\n",
    "import numpy as np\n",
    "import pandas as pd\n",
    "from sklearn import preprocessing\n",
    "\n",
    "import torch\n",
    "import torch.nn as nn\n",
    "import torch.optim as optim\n",
    "import torch.utils as utils\n",
    "import matplotlib.pyplot as plt\n",
    "import torch.nn as nn\n",
    "\n",
    "from script import dataloader, utility, earlystopping\n",
    "from model import models, layers\n"
   ]
  },
  {
   "cell_type": "code",
   "execution_count": null,
   "metadata": {},
   "outputs": [],
   "source": [
    "from main import *"
   ]
  },
  {
   "cell_type": "code",
   "execution_count": null,
   "metadata": {},
   "outputs": [],
   "source": [
    "class dilated_inception(nn.Module):\n",
    "    def __init__(self, cin, cout, dilation_factor=2):\n",
    "        super(dilated_inception, self).__init__()\n",
    "        self.tconv = nn.ModuleList()\n",
    "        self.kernel_set = [2,3,6,7]\n",
    "        cout = int(cout/len(self.kernel_set))\n",
    "        for kern in self.kernel_set:\n",
    "            self.tconv.append(nn.Conv2d(cin,cout,(1,kern),dilation=(1,dilation_factor)))\n",
    "\n",
    "    def forward(self,input):\n",
    "        x = []\n",
    "        for i in range(len(self.kernel_set)):\n",
    "            x.append(self.tconv[i](input))\n",
    "        for i in range(len(self.kernel_set)):\n",
    "            x[i] = x[i][...,-x[-1].size(3):]\n",
    "        x = torch.cat(x,dim=1)\n",
    "        return x"
   ]
  },
  {
   "cell_type": "code",
   "execution_count": null,
   "metadata": {},
   "outputs": [],
   "source": [
    "logging.basicConfig(level=logging.INFO)\n",
    "\n",
    "args, device, blocks = get_parameters()\n",
    "n_vertex, zscore, train_iter, val_iter, test_iter = data_preparate(args, device)    # n_vertex = 207,\n",
    "\n",
    "for x, y in tqdm.tqdm(train_iter):\n",
    "    num = 0\n",
    "\n",
    "print(x.shape)"
   ]
  },
  {
   "cell_type": "code",
   "execution_count": 26,
   "metadata": {},
   "outputs": [],
   "source": [
    "kern = 2\n",
    "dilation_factor = 1\n",
    "cin = 12\n",
    "cout = 16\n",
    "\n",
    "TCconv = nn.ModuleList()\n",
    "kernel_set = [2,3,4,5]\n",
    "\n",
    "x = torch.rand(32,1,12,207)\n",
    "cin = x.shape[1]\n",
    "\n",
    "conv1 = nn.Conv2d(cin,cout,kernel_size=(1,2))\n",
    "conv2 = nn.Conv2d(cin,cout,kernel_size=(1,3))\n",
    "conv3 = nn.Conv2d(cin,cout,kernel_size=(1,4))\n",
    "conv4 = nn.Conv2d(cin,cout,kernel_size=(1,5))"
   ]
  },
  {
   "cell_type": "code",
   "execution_count": 20,
   "metadata": {},
   "outputs": [
    {
     "data": {
      "text/plain": [
       "torch.Size([32, 1, 207, 12])"
      ]
     },
     "execution_count": 20,
     "metadata": {},
     "output_type": "execute_result"
    }
   ],
   "source": [
    "x.permute(0,1,3,2).shape"
   ]
  },
  {
   "cell_type": "code",
   "execution_count": 27,
   "metadata": {},
   "outputs": [
    {
     "name": "stdout",
     "output_type": "stream",
     "text": [
      "torch.Size([32, 16, 207, 11])\n",
      "torch.Size([32, 16, 207, 10])\n",
      "torch.Size([32, 16, 207, 9])\n",
      "torch.Size([32, 16, 207, 8])\n"
     ]
    }
   ],
   "source": [
    "print(conv1(x.permute(0,1,3,2)).shape)\n",
    "print(conv2(x.permute(0,1,3,2)).shape)\n",
    "print(conv3(x.permute(0,1,3,2)).shape)\n",
    "print(conv4(x.permute(0,1,3,2)).shape)"
   ]
  },
  {
   "cell_type": "code",
   "execution_count": 28,
   "metadata": {},
   "outputs": [],
   "source": [
    "x1 = conv1(x.permute(0,1,3,2))\n",
    "x2 = conv2(x.permute(0,1,3,2))\n",
    "x3 = conv3(x.permute(0,1,3,2))\n",
    "x4 = conv4(x.permute(0,1,3,2))"
   ]
  },
  {
   "cell_type": "code",
   "execution_count": 35,
   "metadata": {},
   "outputs": [],
   "source": [
    "out = []\n",
    "out.append(x1[...,-x4.shape[-1]:])\n",
    "out.append(x2[...,-x4.shape[-1]:])\n",
    "out.append(x3[...,-x4.shape[-1]:])\n",
    "out.append(x4[...,-x4.shape[-1]:])"
   ]
  },
  {
   "cell_type": "code",
   "execution_count": 36,
   "metadata": {},
   "outputs": [
    {
     "data": {
      "text/plain": [
       "torch.Size([32, 64, 207, 8])"
      ]
     },
     "execution_count": 36,
     "metadata": {},
     "output_type": "execute_result"
    }
   ],
   "source": [
    "torch.cat(out,dim=1).shape"
   ]
  },
  {
   "cell_type": "code",
   "execution_count": null,
   "metadata": {},
   "outputs": [],
   "source": [
    "for kernel_size in kernel_set:\n",
    "    TCconv.append(nn.Conv2d(cin,cout,kernel_size=(1,kernel_size),dilation=(1,dilation_factor)))"
   ]
  },
  {
   "cell_type": "code",
   "execution_count": 38,
   "metadata": {},
   "outputs": [
    {
     "data": {
      "text/plain": [
       "torch.Size([32, 1, 207, 12])"
      ]
     },
     "execution_count": 38,
     "metadata": {},
     "output_type": "execute_result"
    }
   ],
   "source": [
    "x.permute(0,1,3,2).shape"
   ]
  },
  {
   "cell_type": "code",
   "execution_count": 40,
   "metadata": {},
   "outputs": [],
   "source": [
    "class Dialated_Block(nn.Module):\n",
    "    def __init__(self, cin, cout, dilation_factor=1):\n",
    "        super(Dialated_Block,self).__init__()\n",
    "        self.TCconv = nn.ModuleList()\n",
    "        self.kernel_set = [2,3,4,5]\n",
    "        cout = int(cout / len(self.kernel_set))\n",
    "        for kernel_size in self.kernel_set:\n",
    "            self.TCconv.append(nn.Conv2d(cin,cout,kernel_size=(1,kernel_size),dilation=(1,dilation_factor)))\n",
    "        \n",
    "    def forward(self,input):\n",
    "        x = []\n",
    "        for i in range(len(self.kernel_set)):\n",
    "            x.append(self.TCconv[i](input))\n",
    "            \n",
    "        for i in range(len(self.kernel_set)):\n",
    "            x[i] = x[i][...,-x[-1].shape[-1]:]\n",
    "        x = torch.cat(x,dim=1)\n",
    "        x = x.permute(0,1,3,2)\n",
    "        return x\n"
   ]
  },
  {
   "cell_type": "code",
   "execution_count": 45,
   "metadata": {},
   "outputs": [],
   "source": [
    "class Dialated_Block(nn.Module):\n",
    "    def __init__(self, cin, cout, dilation_factor=1):\n",
    "        super(Dialated_Block,self).__init__()\n",
    "        self.TCconv = nn.ModuleList()\n",
    "        self.kernel_set = [2,3]\n",
    "        cout = int(cout / len(self.kernel_set))\n",
    "        for kernel_size in self.kernel_set:\n",
    "            self.TCconv.append(nn.Conv2d(cin,cout,kernel_size=(1,kernel_size),dilation=(1,dilation_factor)))\n",
    "        \n",
    "    def forward(self,input):\n",
    "        input = input.permute(0,1,3,2)\n",
    "        x = []\n",
    "        \n",
    "        for i in range(len(self.kernel_set)):\n",
    "            x.append(self.TCconv[i](input))\n",
    "        for i in range(len(self.kernel_set)):\n",
    "            x[i] = x[i][...,-x[-1].shape[-1]:]\n",
    "        x = torch.cat(x,dim=1)\n",
    "        x = x.permute(0,1,3,2)\n",
    "        return x\n"
   ]
  },
  {
   "cell_type": "code",
   "execution_count": 46,
   "metadata": {},
   "outputs": [
    {
     "data": {
      "text/plain": [
       "torch.Size([32, 1, 12, 207])"
      ]
     },
     "execution_count": 46,
     "metadata": {},
     "output_type": "execute_result"
    }
   ],
   "source": [
    "x.shape"
   ]
  },
  {
   "cell_type": "code",
   "execution_count": 41,
   "metadata": {},
   "outputs": [],
   "source": [
    "tep_layer = Dialated_Block(1,64)"
   ]
  },
  {
   "cell_type": "code",
   "execution_count": 42,
   "metadata": {},
   "outputs": [
    {
     "data": {
      "text/plain": [
       "Dialated_Block(\n",
       "  (TCconv): ModuleList(\n",
       "    (0): Conv2d(1, 16, kernel_size=(1, 2), stride=(1, 1))\n",
       "    (1): Conv2d(1, 16, kernel_size=(1, 3), stride=(1, 1))\n",
       "    (2): Conv2d(1, 16, kernel_size=(1, 4), stride=(1, 1))\n",
       "    (3): Conv2d(1, 16, kernel_size=(1, 5), stride=(1, 1))\n",
       "  )\n",
       ")"
      ]
     },
     "execution_count": 42,
     "metadata": {},
     "output_type": "execute_result"
    }
   ],
   "source": [
    "tep_layer"
   ]
  },
  {
   "cell_type": "code",
   "execution_count": 44,
   "metadata": {},
   "outputs": [
    {
     "data": {
      "text/plain": [
       "torch.Size([32, 64, 207, 8])"
      ]
     },
     "execution_count": 44,
     "metadata": {},
     "output_type": "execute_result"
    }
   ],
   "source": [
    "tep_layer(x.permute(0,1,3,2)).shape  "
   ]
  },
  {
   "cell_type": "code",
   "execution_count": null,
   "metadata": {},
   "outputs": [],
   "source": []
  }
 ],
 "metadata": {
  "kernelspec": {
   "display_name": "nzk",
   "language": "python",
   "name": "python3"
  },
  "language_info": {
   "codemirror_mode": {
    "name": "ipython",
    "version": 3
   },
   "file_extension": ".py",
   "mimetype": "text/x-python",
   "name": "python",
   "nbconvert_exporter": "python",
   "pygments_lexer": "ipython3",
   "version": "3.7.0"
  }
 },
 "nbformat": 4,
 "nbformat_minor": 2
}
